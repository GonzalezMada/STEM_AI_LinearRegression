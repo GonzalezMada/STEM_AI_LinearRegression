{
 "cells": [
  {
   "cell_type": "markdown",
   "metadata": {},
   "source": [
    "Importation of liraries"
   ]
  },
  {
   "cell_type": "code",
   "execution_count": 66,
   "metadata": {},
   "outputs": [],
   "source": [
    "import numpy as np\n",
    "import matplotlib.pyplot as plt"
   ]
  },
  {
   "cell_type": "markdown",
   "metadata": {},
   "source": [
    "DATA Preparation"
   ]
  },
  {
   "cell_type": "code",
   "execution_count": 67,
   "metadata": {},
   "outputs": [
    {
     "name": "stdout",
     "output_type": "stream",
     "text": [
      "(1, 6)\n",
      "(1, 6)\n"
     ]
    }
   ],
   "source": [
    "# data (xs as inputs and ys as outputs)\n",
    "\n",
    "xs = np.array([[-1.0,  0.0, 1.0, 2.0, 3.0, 4.0]])\n",
    "ys = np.array([[-3.0, -1.0, 1.0, 3.0, 5.0, 7.0]])\n",
    "print(xs.shape)\n",
    "print(ys.shape)"
   ]
  },
  {
   "cell_type": "markdown",
   "metadata": {},
   "source": [
    "1- Initialisation of parameters W and b"
   ]
  },
  {
   "cell_type": "code",
   "execution_count": 68,
   "metadata": {},
   "outputs": [],
   "source": [
    "def initialisation(x):\n",
    "    #Create a random value of W and b\n",
    "    W = np.random.randn(1,x.shape[0])\n",
    "    #first parametre as number of input neurons and the 2nd the number of input features\n",
    "    b = np.random.randn(1,1)\n",
    "    #first parametre as number of input neurons and the 2nd is only 1\n",
    "    parameter ={\n",
    "        'W':W,\n",
    "        'b':b\n",
    "    }\n",
    "    return parameter"
   ]
  },
  {
   "cell_type": "markdown",
   "metadata": {},
   "source": [
    "2- FORWARD PROPAGATION:\n",
    "\n",
    "Y=X.W + b"
   ]
  },
  {
   "cell_type": "code",
   "execution_count": 69,
   "metadata": {},
   "outputs": [],
   "source": [
    "def forward_propagation(x,parameter):\n",
    "    W= parameter['W']\n",
    "    b= parameter['b']\n",
    "    y = W.dot(x) + b\n",
    "    return y"
   ]
  },
  {
   "cell_type": "markdown",
   "metadata": {},
   "source": [
    "3- Loss Function (MSE):\n",
    "\n",
    "MSE = 1/N × ∑ (y-ý)²"
   ]
  },
  {
   "cell_type": "code",
   "execution_count": 70,
   "metadata": {},
   "outputs": [],
   "source": [
    "def mse(y_real,y_predict):\n",
    "    n= y_real.shape[1]\n",
    "    #error= y_real - y_predict\n",
    "    #square = error **2\n",
    "    #sum = np.sum(square)\n",
    "    #mse_val = 1/n * sum\n",
    "    return (1/n) * np.sum(np.square(y_real - y_predict))\n"
   ]
  },
  {
   "cell_type": "markdown",
   "metadata": {},
   "source": [
    "4- Optimisation:\n",
    "\n",
    "dW = -2/N × ∑ x(y-ý)\n",
    "\n",
    "db = -2/N × ∑ (y-ý)\n",
    "\n",
    "W = W -∝ dW\n",
    "\n",
    "b = b -∝ db"
   ]
  },
  {
   "cell_type": "code",
   "execution_count": 71,
   "metadata": {},
   "outputs": [],
   "source": [
    "def optimisation(x,y_real,y_predict,parameter, learning_rate=0.001):\n",
    "    n= y_real.shape[1]\n",
    "    error= y_real - y_predict\n",
    "    dw = -2/n * error.dot(x.T)\n",
    "    #dw = -2/n * np.sum(x * error, keepdims = True)\n",
    "    db = -2/n * np.sum(error, keepdims = True)\n",
    "\n",
    "    w= parameter['W']\n",
    "    b= parameter['b']\n",
    "\n",
    "    w = w - learning_rate * dw\n",
    "    b = b - learning_rate * db\n",
    "\n",
    "    parameter ={\n",
    "        'W':w,\n",
    "        'b':b\n",
    "    }\n",
    "    return parameter"
   ]
  },
  {
   "cell_type": "markdown",
   "metadata": {},
   "source": [
    "Linear Regression Neuron"
   ]
  },
  {
   "cell_type": "code",
   "execution_count": 72,
   "metadata": {},
   "outputs": [],
   "source": [
    "def neuralNetwork(x, y, n_iteration = 50):\n",
    "    parameter = initialisation(x)\n",
    "\n",
    "    loss= []\n",
    "    for i in range(n_iteration):\n",
    "        y_predict = forward_propagation (x, parameter)\n",
    "        loss.append(mse(y, y_predict))\n",
    "        parameter = optimisation(x,y,y_predict,parameter)\n",
    "    #plt.plot(loss)\n",
    "    return parameter"
   ]
  },
  {
   "cell_type": "code",
   "execution_count": 73,
   "metadata": {},
   "outputs": [
    {
     "name": "stdout",
     "output_type": "stream",
     "text": [
      "(1, 1)\n",
      "()\n",
      "(20,)\n"
     ]
    },
    {
     "data": {
      "image/png": "[encoded data removed]",
      "text/plain": [
       "<Figure size 640x480 with 1 Axes>"
      ]
     },
     "metadata": {},
     "output_type": "display_data"
    }
   ],
   "source": [
    "parameter = neuralNetwork(xs,ys)\n",
    "print(parameter['W'].shape)\n",
    "w = np.squeeze(parameter['W'])\n",
    "b = np.squeeze(parameter['b'])\n",
    "print(w.shape)\n",
    "\n",
    "x_0 = np.linspace(-5, 10, 20)\n",
    "print(x_0.shape)\n",
    "y_0= x_0*w + b\n",
    "\n",
    "xs = xs.flatten()\n",
    "ys = ys.flatten()\n",
    "\n",
    "plt.plot(xs, ys, 'o', label='Data')\n",
    "plt.plot(x_0, y_0, label=f'Regression line: y = {w:.2f}x + {b:.2f}')\n",
    "plt.legend()\n",
    "plt.xlabel(\"x\")\n",
    "plt.ylabel(\"y\")\n",
    "plt.title(\"Linear Regression Fit\")\n",
    "plt.grid(True)\n",
    "plt.show()\n",
    "#print(forward_propagation(np.array([10]),parameter))"
   ]
  }
 ],
 "metadata": {
  "kernelspec": {
   "display_name": "Python 3",
   "language": "python",
   "name": "python3"
  },
  "language_info": {
   "codemirror_mode": {
    "name": "ipython",
    "version": 3
   },
   "file_extension": ".py",
   "mimetype": "text/x-python",
   "name": "python",
   "nbconvert_exporter": "python",
   "pygments_lexer": "ipython3",
   "version": "3.11.0"
  }
 },
 "nbformat": 4,
 "nbformat_minor": 2
}
