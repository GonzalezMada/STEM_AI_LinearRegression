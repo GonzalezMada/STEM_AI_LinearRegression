{
 "cells": [
  {
   "cell_type": "code",
   "execution_count": 10,
   "metadata": {},
   "outputs": [],
   "source": [
    "import numpy as np\n",
    "import matplotlib.pyplot as plt\n",
    "\n",
    "class Linear_regression:\n",
    "    def __init__(self, x, y):\n",
    "        self.x = x\n",
    "        self.y = y\n",
    "        self.w = np.random.randn(1,x.shape[0]) \n",
    "        self.b = np.random.randn(1,1)\n",
    "    \n",
    "    def forward_propagation(self):\n",
    "        return (self.w).dot(self.x) + self.b\n",
    "\n",
    "    def mse(self):\n",
    "        n = self.y.shape[0]\n",
    "        return (1/n) * np.sum(np.square(self.y - self.forward_propagation()))\n",
    "    \n",
    "    def optimisation(self, learning_rate):\n",
    "        n= self.y.shape[0]\n",
    "        error= self.y - self.forward_propagation()\n",
    "\n",
    "        dw = -2/n * (self.x).dot(error.T)\n",
    "        db = -2/n * np.sum(error, keepdims = True)\n",
    "\n",
    "        self.w  = self.w - learning_rate * dw\n",
    "        self.b = self.b - learning_rate * db\n",
    "    \n",
    "    def train(self, learning_rate = 0.001, iteration = 500):\n",
    "        loss = []\n",
    "        for i in range(iteration ):\n",
    "            y_predict = self.forward_propagation()\n",
    "            loss.append(self.mse())\n",
    "            self.optimisation(learning_rate)\n",
    "        plt.plot(loss)\n",
    "    \n",
    "    def predict(self, x):\n",
    "        y_predict = (self.w).dot(x) + self.b\n",
    "        print(y_predict)"
   ]
  }
 ],
 "metadata": {
  "kernelspec": {
   "display_name": "Python 3",
   "language": "python",
   "name": "python3"
  },
  "language_info": {
   "codemirror_mode": {
    "name": "ipython",
    "version": 3
   },
   "file_extension": ".py",
   "mimetype": "text/x-python",
   "name": "python",
   "nbconvert_exporter": "python",
   "pygments_lexer": "ipython3",
   "version": "3.11.0"
  }
 },
 "nbformat": 4,
 "nbformat_minor": 2
}
